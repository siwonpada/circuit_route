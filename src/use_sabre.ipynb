{
 "cells": [
  {
   "cell_type": "code",
   "execution_count": 3,
   "id": "5da3ba07",
   "metadata": {},
   "outputs": [
    {
     "name": "stdout",
     "output_type": "stream",
     "text": [
      "Original circuit:\n",
      "     ┌───┐          \n",
      "q_0: ┤ H ├──■───────\n",
      "     └───┘┌─┴─┐     \n",
      "q_1: ─────┤ X ├──■──\n",
      "          └───┘  │  \n",
      "q_2: ────────────┼──\n",
      "                 │  \n",
      "q_3: ────────────┼──\n",
      "               ┌─┴─┐\n",
      "q_4: ──────────┤ X ├\n",
      "               └───┘\n",
      "q_5: ───────────────\n",
      "                    \n",
      "q_6: ───────────────\n",
      "                    \n",
      "q_7: ───────────────\n",
      "                    \n",
      "Transpiled circuit:\n",
      "     ┌───┐             \n",
      "q_0: ┤ H ├──■──────────\n",
      "     └───┘┌─┴─┐        \n",
      "q_1: ─────┤ X ├─X──────\n",
      "          └───┘ │      \n",
      "q_2: ───────────X───■──\n",
      "                  ┌─┴─┐\n",
      "q_3: ──X──────────┤ X ├\n",
      "       │          └───┘\n",
      "q_4: ──X───────────────\n",
      "                       \n",
      "q_5: ──────────────────\n",
      "                       \n",
      "q_6: ──────────────────\n",
      "                       \n",
      "q_7: ──────────────────\n",
      "                       \n"
     ]
    }
   ],
   "source": [
    "from qiskit.transpiler.passes import SabreSwap\n",
    "from qiskit.transpiler import CouplingMap\n",
    "from qiskit.circuit import QuantumCircuit\n",
    "from qiskit.converters import circuit_to_dag, dag_to_circuit\n",
    "\n",
    "coupling = CouplingMap([[0, 1], [1, 2], [2, 3], [3, 4], [4, 5], [5, 6], [6, 7]])\n",
    "\n",
    "sabre = SabreSwap(coupling_map=coupling)\n",
    "qc = QuantumCircuit(8)\n",
    "qc.h(0)\n",
    "qc.cx(0, 1)\n",
    "qc.cx(1, 4)\n",
    "\n",
    "dag = circuit_to_dag(qc)\n",
    "dag = sabre.run(dag)\n",
    "opt_qc = dag_to_circuit(dag)\n",
    "print(\"Original circuit:\")\n",
    "print(qc.draw())\n",
    "print(\"Transpiled circuit:\")\n",
    "print(opt_qc.draw())"
   ]
  },
  {
   "cell_type": "code",
   "execution_count": null,
   "id": "d4aba513",
   "metadata": {},
   "outputs": [],
   "source": []
  }
 ],
 "metadata": {
  "kernelspec": {
   "display_name": ".venv (3.13.3)",
   "language": "python",
   "name": "python3"
  },
  "language_info": {
   "codemirror_mode": {
    "name": "ipython",
    "version": 3
   },
   "file_extension": ".py",
   "mimetype": "text/x-python",
   "name": "python",
   "nbconvert_exporter": "python",
   "pygments_lexer": "ipython3",
   "version": "3.13.3"
  }
 },
 "nbformat": 4,
 "nbformat_minor": 5
}
